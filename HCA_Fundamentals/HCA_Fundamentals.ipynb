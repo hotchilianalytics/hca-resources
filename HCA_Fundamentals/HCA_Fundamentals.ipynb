{
 "cells": [
  {
   "cell_type": "markdown",
   "metadata": {},
   "source": [
    "## HotChili Analytics trading notebook template\n",
    "#### Configure by setting ALGO_NAME in cell below.\n",
    "#### Run various options (backtest, ingest, live) by uncommenting one cell "
   ]
  },
  {
   "cell_type": "code",
   "execution_count": 1,
   "metadata": {},
   "outputs": [
    {
     "name": "stderr",
     "output_type": "stream",
     "text": [
      "/home/hca-r2-001/miniconda3/envs/hca/lib/python3.6/site-packages/h5py/__init__.py:36: FutureWarning: Conversion of the second argument of issubdtype from `float` to `np.floating` is deprecated. In future, it will be treated as `np.float64 == np.dtype(float).type`.\n",
      "  from ._conv import register_converters as _register_converters\n",
      "/home/hca-r2-001/miniconda3/envs/hca/lib/python3.6/site-packages/odo/backends/pandas.py:94: FutureWarning: pandas.tslib is deprecated and will be removed in a future version.\n",
      "You can access NaTType as type(pandas.NaT)\n",
      "  @convert.register((pd.Timestamp, pd.Timedelta), (pd.tslib.NaTType, type(None)))\n"
     ]
    }
   ],
   "source": [
    "%matplotlib inline\n",
    "%load_ext zipline\n",
    "\n",
    "# %reload_ext zipline # Uncomment and use this when already loaded zipline extension for magic cell usage."
   ]
  },
  {
   "cell_type": "code",
   "execution_count": 2,
   "metadata": {},
   "outputs": [],
   "source": [
    "import pandas as pd\n",
    "\n",
    "# Options you can uncomment and set:\n",
    "\n",
    "# pd.set_option(\"max_colwidth\", 300)\n",
    "# pd.set_option(\"display.max_rows\", 300)\n",
    "# pd.set_option(\"display.max_columns\", 50)\n",
    "# pd.set_option('precision', 2)\n",
    "# pd.options.display.float_format = '{:20,.2f}'.format"
   ]
  },
  {
   "cell_type": "code",
   "execution_count": 3,
   "metadata": {},
   "outputs": [
    {
     "name": "stdout",
     "output_type": "stream",
     "text": [
      "hca_root_path = /home/hca-ws2004/hca\n"
     ]
    }
   ],
   "source": [
    "import os\n",
    "\n",
    "hca_root_path = os.environ['HCA_ROOT']\n",
    "print(f\"hca_root_path = {hca_root_path}\")"
   ]
  },
  {
   "cell_type": "code",
   "execution_count": 4,
   "metadata": {},
   "outputs": [
    {
     "name": "stdout",
     "output_type": "stream",
     "text": [
      "TODAY = 2021-07-05\n"
     ]
    }
   ],
   "source": [
    "TODAY = pd.datetime.today().strftime(\"%Y-%m-%d\")\n",
    "print(\"TODAY = {}\".format(TODAY))"
   ]
  },
  {
   "cell_type": "markdown",
   "metadata": {},
   "source": [
    "# Construct algorithm strategy path names\n",
    "\n",
    "Assumptions:\n",
    "\n",
    "- the strategy is in a directory with the same name as the strategy in `ALGO_NAME` below\n",
    "- the strategy is located in the hca-resources directory, which is located relative to `hca_root_path`, found above"
   ]
  },
  {
   "cell_type": "code",
   "execution_count": 5,
   "metadata": {},
   "outputs": [],
   "source": [
    "ALGO_NAME = \"HCA_Fundamentals\" # <--- Supply name here"
   ]
  },
  {
   "cell_type": "markdown",
   "metadata": {},
   "source": [
    "Other variables are derived from `ALGO_NAME`:"
   ]
  },
  {
   "cell_type": "code",
   "execution_count": 6,
   "metadata": {},
   "outputs": [
    {
     "name": "stdout",
     "output_type": "stream",
     "text": [
      "\n",
      "ALGO_NAME          = HCA_Fundamentals\n",
      "HCA_RESOURCES_PATH = /home/hca-ws2004/hca/hca-resources/\n",
      "ALGO_PATH          = /home/hca-ws2004/hca/hca-resources/HCA_Fundamentals/\n",
      "ALGO_BT            = /home/hca-ws2004/hca/hca-resources/HCA_Fundamentals/HCA_Fundamentals_Live.py\n",
      "ALGO_BT_OUT        = /home/hca-ws2004/hca/hca-resources/HCA_Fundamentals/HCA_Fundamentals.pkl\n",
      "ALGO_LIVE          = /home/hca-ws2004/hca/hca-resources/HCA_Fundamentals/HCA_Fundamentals_Live.py\n",
      "\n",
      "Contents of algo directory:\n",
      "\n",
      "HCA_Ftest.py\t\t\t       HCA_Fundamentals_Live.py\n",
      "HCA_Fundamentals-2020-07-01\t       HCA_Fundamentals.pkl\n",
      "HCA_Fundamentals-2021-06-18--21-41-01  HCA_Fundamentals_tearsheet.ipynb\n",
      "HCA_Fundamentals.ipynb\t\t       High_Debt.py\n"
     ]
    }
   ],
   "source": [
    "HCA_RESOURCES_PATH = hca_root_path + \"/hca-resources/\" \n",
    "ALGO_PATH          = HCA_RESOURCES_PATH + ALGO_NAME + \"/\" \n",
    "### ALGO_BT            = ALGO_PATH + \"High_Debt.py\"\n",
    "#ALGO_BT            = ALGO_PATH + \"HCA_Ftest.py\"\n",
    "#orig \n",
    "ALGO_BT            = ALGO_PATH + ALGO_NAME + \"_Live\" + \".py\"\n",
    "ALGO_BT_OUT        = ALGO_PATH + ALGO_NAME + \".pkl\"\n",
    "ALGO_LIVE          = ALGO_PATH + ALGO_NAME + \"_Live\" + \".py\"\n",
    "\n",
    "print(f\"\"\"\n",
    "ALGO_NAME          = {ALGO_NAME}\n",
    "HCA_RESOURCES_PATH = {HCA_RESOURCES_PATH}\n",
    "ALGO_PATH          = {ALGO_PATH}\n",
    "ALGO_BT            = {ALGO_BT}\n",
    "ALGO_BT_OUT        = {ALGO_BT_OUT}\n",
    "ALGO_LIVE          = {ALGO_LIVE}\n",
    "\n",
    "Contents of algo directory:\n",
    "\"\"\")\n",
    "\n",
    "!ls $ALGO_PATH"
   ]
  },
  {
   "cell_type": "markdown",
   "metadata": {},
   "source": [
    "## Zipline backtest: \n",
    "\n",
    "- Method: Jupyter magic cell (%%) \n",
    "- Execution of zipline code in cell containing command line command\n",
    "- Uncomment first line and hit (shift-enter) inside the cell to run simulation backtest"
   ]
  },
  {
   "cell_type": "markdown",
   "metadata": {},
   "source": [
    "## Display your current bundles"
   ]
  },
  {
   "cell_type": "code",
   "execution_count": 7,
   "metadata": {},
   "outputs": [],
   "source": [
    "#!zipline bundles # Finds all bundles"
   ]
  },
  {
   "cell_type": "markdown",
   "metadata": {},
   "source": [
    "## Ingest Bundle funds assets. "
   ]
  },
  {
   "cell_type": "code",
   "execution_count": 8,
   "metadata": {},
   "outputs": [],
   "source": [
    "# Ingest Sharadar funds assets for today, if needed.\n",
    "\n",
    "# Only need to ingest Funds for this algo, and this takes less processing time and system memory than ingesting\n",
    "# all of Sharadar Equities plus Funds bundle (sharadar-eqfd)\n",
    "\n",
    "# Yahoo Direct Data Bundle Ingest\n",
    "# Quick way\n",
    "# !export YAHOO_SYM_LST=SPY,ZSL,KOLD,GLD,SHY,XLP,IEF,TLT,QQQ;zipline ingest -b yahoo_direct\n",
    "\n",
    "# Long way - Set environ variable, so can use it later after bundle is created to find out what is in the bundle.\n",
    "#os.environ[\"YAHOO_SYM_LST\"] = \"SPY,ZSL,KOLD,GLD,SHY,XLP,IEF,TLT,QQQ\"\n",
    "#!zipline ingest -b yahoo_direct\n",
    "#yahoo_direct_sym_lst = os.environ['YAHOO_SYM_LST']\n",
    "#print(f\"yahoo_direct_sym_lst = {yahoo_direct_sym_lst}\")\n",
    "\n",
    "#!zipline ingest -b sharadar-funds \n",
    "#!zipline ingest -b sharadar-prices \n",
    "##### !zipline ingest -b hca-symbol\n"
   ]
  },
  {
   "cell_type": "code",
   "execution_count": null,
   "metadata": {},
   "outputs": [],
   "source": []
  },
  {
   "cell_type": "markdown",
   "metadata": {},
   "source": [
    "## Zipline backtest, alternative method\n",
    "\n",
    "- Method: command line\n",
    "- Execution of zipline code, located in a file, using below command line execution with magic (`!`) invocation\n",
    "- This line can also be run in a terminal by copying everything past the `!` and pasting (shift-insert) it into the target terminal"
   ]
  },
  {
   "cell_type": "code",
   "execution_count": null,
   "metadata": {},
   "outputs": [
    {
     "name": "stdout",
     "output_type": "stream",
     "text": [
      "/home/hca-r2-001/miniconda3/envs/hca/lib/python3.6/site-packages/h5py/__init__.py:36: FutureWarning: Conversion of the second argument of issubdtype from `float` to `np.floating` is deprecated. In future, it will be treated as `np.float64 == np.dtype(float).type`.\n",
      "  from ._conv import register_converters as _register_converters\n",
      "/home/hca-r2-001/miniconda3/envs/hca/lib/python3.6/site-packages/odo/backends/pandas.py:94: FutureWarning: pandas.tslib is deprecated and will be removed in a future version.\n",
      "You can access NaTType as type(pandas.NaT)\n",
      "  @convert.register((pd.Timestamp, pd.Timedelta), (pd.tslib.NaTType, type(None)))\n",
      "extension: hca_root_path = /home/hca-ws2004/hca\n",
      "extension:TODAY_STR = 2021-07-05\n",
      "extension:TWO_YR_AGO_STR = 2019-07-05\n",
      "extension:  start_date=2019-07-05 end_date = 2021-07-05\n",
      "[2021-07-05 19:21:47.242001] WARNING: Loader: Refusing to download new benchmark data because a download succeeded at 2021-07-05 19:01:22.743692+00:00.\n",
      "[2021-07-05 19:21:47.278220] WARNING: Loader: Refusing to download new treasury data because a download succeeded at 2021-07-05 19:01:24.991677+00:00.\n",
      "['2021-06-12T02;18;33', '2021-06-15T03;03;41', '2021-06-17T03;19;56', '2021-06-17T20;48;15', '2021-06-24T22;33;36', '2021-06-25T03;05;15', '2021-06-30T02;01;43', '2021-07-01T02;47;02', '2021-07-02T02;45;16']\n",
      "cur_folder= /home/hca-ws2004/hca/alphatools/alphatools/fundamentals\n",
      "enac_fundamentals_pkl= /home/hca-ws2004/zipline-broker/data/fundem-sharadar-sf1/2021-07-02T02;45;16/quandal_sharadar_sf1.pkl\n",
      "Non-sid Fund Count=False    103348\n",
      "True       4105\n",
      "Name: sid, dtype: int64\n",
      "Non-sid Fund TotalCount=4105\n",
      "\n",
      "SF1 Table needs to extend sessions from:max datekey:2021-07-01 tp  current date:2021-07-05 19:21:48.064083 ExtendRange:DatetimeIndex(['2021-07-01', '2021-07-02'], dtype='datetime64[ns, UTC]', freq='C')\n",
      "\n",
      "Adding fundamental:equity\n",
      "Adding fundamental:debt\n",
      "Adding fundamental:fcf\n",
      "Adding fundamental:de\n",
      "Adding fundamental:marketcap\n",
      "Adding fundamental:debtnc\n",
      "Adding fundamental:equityusd\n",
      "Adding fundamental:assets\n"
     ]
    }
   ],
   "source": [
    "!zipline run -f $ALGO_BT  --bundle sharadar-eqfd --capital-base=50000  --start=2019-04-01 --end=2021-07-01 -o $ALGO_BT_OUT # $ALGO_BT  --bundle sharadar-prices "
   ]
  },
  {
   "cell_type": "code",
   "execution_count": null,
   "metadata": {},
   "outputs": [],
   "source": []
  },
  {
   "cell_type": "code",
   "execution_count": null,
   "metadata": {
    "scrolled": true,
    "tags": []
   },
   "outputs": [],
   "source": [
    "#!zipline run -f $ALGO_BT  --start=2019-04-01 --end=2021-07-01 ---b sharadar-eqfd -o $ALGO_BT_OUT"
   ]
  },
  {
   "cell_type": "code",
   "execution_count": null,
   "metadata": {
    "code_folding": [
     1
    ],
    "jupyter": {
     "source_hidden": true
    },
    "scrolled": true,
    "tags": []
   },
   "outputs": [],
   "source": [
    "%%html\n",
    "<style> \n",
    "    table {margin-left: 0 } !important;}\n",
    "</style>\n",
    "<style type=\"text/css\">\n",
    "    table.dataframe td, table.dataframe th {border: 1px solid lightgray;}\n",
    "</style>"
   ]
  },
  {
   "cell_type": "markdown",
   "metadata": {},
   "source": [
    "<img src=\"http://drive.google.com/uc?export=view&id=1zJjN-vEjutF__7wpEq5Yibxv9BRZeC74\"\n",
    "     alt=\"HCA Logo\" height=\"150\" width=\"150\"\n",
    "     style=\"float: left; margin-right: 10px;\">\n",
    "\n",
    "|Name  | Value |\n",
    "| :- |:-------------: |\n",
    "| Notebook:  | HotChili Trader Tear Sheet |\n",
    "| Version:  | 2.0.0 |\n",
    "| Date:  | 2020-04-16  |\n",
    "| Copyright:  | @2019-2021 |\n",
    "| Company:  | HotChili Analytics, LLC |\n",
    "| Authors   :  | Alan & Jeff Coppola |"
   ]
  },
  {
   "cell_type": "code",
   "execution_count": null,
   "metadata": {},
   "outputs": [],
   "source": [
    "import pandas as pd\n",
    "import numpy as np\n",
    "import matplotlib as mp\n",
    "import matplotlib.pyplot as plt\n",
    "import pyfolio as pf\n",
    "%matplotlib inline\n",
    "\n",
    "# silence warnings\n",
    "import warnings\n",
    "warnings.filterwarnings('ignore')\n",
    "### %pylab inline\n",
    "###figsize(12, 12)"
   ]
  },
  {
   "cell_type": "code",
   "execution_count": null,
   "metadata": {},
   "outputs": [],
   "source": [
    "pd.set_option(\"max_colwidth\", 400)\n",
    "pd.set_option(\"display.max_rows\", 100000)\n",
    "pd.set_option(\"display.max_columns\", 1000)\n",
    "pd.set_option('precision', 2)\n",
    "pd.options.display.float_format = '{:20,.2f}'.format"
   ]
  },
  {
   "cell_type": "code",
   "execution_count": null,
   "metadata": {},
   "outputs": [],
   "source": [
    "# Parameters for location of zipline-broker run\n",
    "#hca/hca-resources/HCA_Fundamentals/fund_bt.pkl\n",
    "#hca/hca-resources/HCA_Fundamentals/fund_bt.pkl\n",
    "#nb_dir = \"/home/hca-ws2004/hca/hca-resources/HCA_Fundamentals/\"\n",
    "###ans_pkl = \"High_Debt.pkl\"\n",
    "#ans_pkl = \"HCA_Ftest.pkl\"\n",
    "###ans_pkl = \"HCA_Fundamentals_Live.pkl\"\n",
    "#ans_pkl = \"HCA_Fundamentals.pkl\" #High_Debt\n",
    "#ans_data_file = nb_dir + ans_pkl\n",
    "ans_data_file =  ALGO_BT_OUT\n",
    "# Read in backtest results for analysis\n",
    "perf=pd.read_pickle(ans_data_file)\n",
    "print (ans_data_file)"
   ]
  },
  {
   "cell_type": "code",
   "execution_count": null,
   "metadata": {},
   "outputs": [],
   "source": [
    "import pandas as pd\n",
    "returns, positions, transactions= pf.utils.extract_rets_pos_txn_from_zipline(perf)"
   ]
  },
  {
   "cell_type": "code",
   "execution_count": null,
   "metadata": {
    "scrolled": true
   },
   "outputs": [],
   "source": [
    "import sys\n",
    "\n",
    "print(\"Tear Sheet File : {}\".format(ans_data_file))\n",
    "print(\"-----------------------------------\")\n",
    "print(\"Python version={}\".format(sys.version))\n",
    "print(\"Matplotlib version={}\".format(mp.__version__))\n",
    "print(\"Numpy version={}\".format(np.version.version))\n"
   ]
  },
  {
   "cell_type": "code",
   "execution_count": null,
   "metadata": {},
   "outputs": [],
   "source": [
    "sim_start=perf.index[0]\n",
    "sim_end= perf.index[-1]\n",
    "print(\"start={}  end={}\".format(sim_start,sim_end))\n"
   ]
  },
  {
   "cell_type": "code",
   "execution_count": null,
   "metadata": {
    "tags": []
   },
   "outputs": [],
   "source": [
    "#%%pixie_debugger\n",
    "\n",
    "from zipline.data import benchmarks\n",
    "# Set up benchmark Asset \n",
    "spy_bm_ret    = benchmarks.get_benchmark_returns(symbol='SPY', first_date=sim_start, last_date=sim_end)\n",
    "spy_bm_ret    = spy_bm_ret[sim_start:sim_end]\n",
    "spy_bm_ret[0] = 0.0 # Normalize benchmark returns to start at 0.0.\n",
    "perf          = perf[sim_start:sim_end]\n",
    "live_start=perf.index[-90]\n",
    "returns, positions, transactions = pf.utils.extract_rets_pos_txn_from_zipline(perf)\n",
    "#pf.create_full_tear_sheet(\n",
    "#                          returns, \n",
    "#                          positions=positions, \n",
    "#                          transactions=transactions, \n",
    "#                          bootstrap=True,\n",
    "#                          benchmark_rets=spy_bm_ret, \n",
    "#                          round_trips=True, \n",
    "#                          live_start_date=live_start,\n",
    "#                          #live_start_date='2021-01-01',\n",
    "#                          bayesian=True,\n",
    "#                          risk=True\n",
    "#                         )\n",
    "#orig pf.create_full_tear_sheet(returns, positions=positions, transactions=transactions, bootstrap=None,benchmark_rets=spy_bm_ret, round_trips=True)\n",
    "pf.create_simple_tear_sheet(returns=returns,positions=positions,transactions=transactions, benchmark_rets=spy_bm_ret)"
   ]
  },
  {
   "cell_type": "code",
   "execution_count": null,
   "metadata": {},
   "outputs": [],
   "source": []
  }
 ],
 "metadata": {
  "hide_input": false,
  "kernelspec": {
   "display_name": "hca-py3.6.7",
   "language": "python",
   "name": "hca"
  },
  "language_info": {
   "codemirror_mode": {
    "name": "ipython",
    "version": 3
   },
   "file_extension": ".py",
   "mimetype": "text/x-python",
   "name": "python",
   "nbconvert_exporter": "python",
   "pygments_lexer": "ipython3",
   "version": "3.6.7"
  }
 },
 "nbformat": 4,
 "nbformat_minor": 4
}
